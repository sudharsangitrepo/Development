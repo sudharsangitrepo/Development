{
 "cells": [
  {
   "cell_type": "markdown",
   "metadata": {},
   "source": [
    "# Importing Required Packages "
   ]
  },
  {
   "cell_type": "code",
   "execution_count": 1,
   "metadata": {},
   "outputs": [],
   "source": [
    "import pandas as pd\n",
    "import numpy as np\n",
    "import matplotlib.pyplot as plt\n",
    "%matplotlib inline\n",
    "import seaborn as sns\n",
    "\n",
    "import string\n",
    "import re\n",
    "from nltk.corpus import stopwords\n",
    "from nltk.stem import PorterStemmer\n",
    "from nltk.tokenize import sent_tokenize, word_tokenize\n",
    "\n",
    "from sklearn.feature_extraction.text import CountVectorizer\n",
    "from sklearn.feature_extraction.text import TfidfTransformer\n",
    "from sklearn.model_selection import train_test_split\n",
    "from sklearn.pipeline import Pipeline\n",
    "\n",
    "from sklearn.linear_model import LogisticRegression\n",
    "from sklearn.naive_bayes import MultinomialNB\n",
    "from sklearn.ensemble import RandomForestClassifier\n",
    "from sklearn.svm import LinearSVC\n",
    "from sklearn.ensemble import GradientBoostingClassifier\n",
    "from sklearn.model_selection import GridSearchCV\n",
    "\n",
    "from sklearn.metrics import accuracy_score, classification_report"
   ]
  },
  {
   "cell_type": "markdown",
   "metadata": {},
   "source": [
    "# Converting To Dataframe"
   ]
  },
  {
   "cell_type": "code",
   "execution_count": 8,
   "metadata": {},
   "outputs": [],
   "source": [
    "import os\n",
    "# Step 1 - Get the file details\n",
    "directory = []\n",
    "file = []\n",
    "title = []\n",
    "text = []\n",
    "label = []\n",
    "datapath = 'E:/Data_science/document_classification/bbc/bbc-fulltext (document classification)/bbc/' \n",
    "for dirname, _ , filenames in os.walk(datapath):\n",
    "    #print('Directory: ', dirname)\n",
    "    #print('Subdir: ', dirname.split('/')[-1])\n",
    "    # remove the Readme.txt file\n",
    "    # will not find file in the second iteration so we skip the error\n",
    "    try:\n",
    "        filenames.remove('README.TXT')\n",
    "    except:\n",
    "        pass\n",
    "    for filename in filenames:\n",
    "        directory.append(dirname)\n",
    "        file.append(filename)\n",
    "        label.append(dirname.split('/')[-1])\n",
    "        #print(filename)\n",
    "        fullpathfile = os.path.join(dirname,filename)\n",
    "        with open(fullpathfile, 'r', encoding=\"utf8\", errors='ignore') as infile:\n",
    "            intext = ''\n",
    "            firstline = True\n",
    "            for line in infile:\n",
    "                if firstline:\n",
    "                    title.append(line.replace('\\n',''))\n",
    "                    firstline = False\n",
    "                else:\n",
    "                    intext = intext + ' ' + line.replace('\\n','')\n",
    "            text.append(intext)"
   ]
  },
  {
   "cell_type": "code",
   "execution_count": 9,
   "metadata": {},
   "outputs": [
    {
     "name": "stdout",
     "output_type": "stream",
     "text": [
      "FullDf :  (2225, 5)\n",
      "DF :  (2225, 3)\n"
     ]
    }
   ],
   "source": [
    "fulldf = pd.DataFrame(list(zip(directory, file, title, text, label)), \n",
    "               columns =['directory', 'file', 'title', 'text', 'label'])\n",
    "\n",
    "df = fulldf.filter(['title','text','label'], axis=1)\n",
    "\n",
    "print(\"FullDf : \", fulldf.shape)\n",
    "print(\"DF : \", df.shape)"
   ]
  },
  {
   "cell_type": "code",
   "execution_count": 10,
   "metadata": {},
   "outputs": [
    {
     "name": "stdout",
     "output_type": "stream",
     "text": [
      "Train DF:  (1780, 3)\n",
      "Test DF:  (445, 3)\n"
     ]
    }
   ],
   "source": [
    "from sklearn.model_selection import train_test_split\n",
    "train, test = train_test_split(df, test_size=0.2)\n",
    "print(\"Train DF: \",train.shape)\n",
    "print(\"Test DF: \",test.shape)"
   ]
  },
  {
   "cell_type": "code",
   "execution_count": 12,
   "metadata": {},
   "outputs": [
    {
     "data": {
      "text/html": [
       "<div>\n",
       "<style scoped>\n",
       "    .dataframe tbody tr th:only-of-type {\n",
       "        vertical-align: middle;\n",
       "    }\n",
       "\n",
       "    .dataframe tbody tr th {\n",
       "        vertical-align: top;\n",
       "    }\n",
       "\n",
       "    .dataframe thead th {\n",
       "        text-align: right;\n",
       "    }\n",
       "</style>\n",
       "<table border=\"1\" class=\"dataframe\">\n",
       "  <thead>\n",
       "    <tr style=\"text-align: right;\">\n",
       "      <th></th>\n",
       "      <th>title</th>\n",
       "      <th>text</th>\n",
       "      <th>label</th>\n",
       "    </tr>\n",
       "  </thead>\n",
       "  <tbody>\n",
       "    <tr>\n",
       "      <th>2171</th>\n",
       "      <td>Game makers get Xbox 2 sneak peek</td>\n",
       "      <td>Microsoft has given game makers a glimpse of...</td>\n",
       "      <td>tech</td>\n",
       "    </tr>\n",
       "    <tr>\n",
       "      <th>545</th>\n",
       "      <td>Hanks greeted at wintry premiere</td>\n",
       "      <td>Hollywood star Tom Hanks was in London's Lei...</td>\n",
       "      <td>entertainment</td>\n",
       "    </tr>\n",
       "    <tr>\n",
       "      <th>932</th>\n",
       "      <td>Profile: David Miliband</td>\n",
       "      <td>David Miliband's rapid rise through the rank...</td>\n",
       "      <td>politics</td>\n",
       "    </tr>\n",
       "    <tr>\n",
       "      <th>54</th>\n",
       "      <td>SA unveils 'more for all' budget</td>\n",
       "      <td>The South African government has put tax cut...</td>\n",
       "      <td>business</td>\n",
       "    </tr>\n",
       "    <tr>\n",
       "      <th>1724</th>\n",
       "      <td>Dominici backs lacklustre France</td>\n",
       "      <td>Wing Christophe Dominici says France can cla...</td>\n",
       "      <td>sport</td>\n",
       "    </tr>\n",
       "    <tr>\n",
       "      <th>...</th>\n",
       "      <td>...</td>\n",
       "      <td>...</td>\n",
       "      <td>...</td>\n",
       "    </tr>\n",
       "    <tr>\n",
       "      <th>1012</th>\n",
       "      <td>Boothroyd calls for Lords speaker</td>\n",
       "      <td>Betty Boothroyd has said the House of Lords ...</td>\n",
       "      <td>politics</td>\n",
       "    </tr>\n",
       "    <tr>\n",
       "      <th>1476</th>\n",
       "      <td>Ajax refuse to rule out Jol move</td>\n",
       "      <td>Ajax have refused to reveal whether Tottenha...</td>\n",
       "      <td>sport</td>\n",
       "    </tr>\n",
       "    <tr>\n",
       "      <th>1453</th>\n",
       "      <td>Benitez issues warning to Gerrard</td>\n",
       "      <td>Liverpool manager Rafael Benitez has ordered...</td>\n",
       "      <td>sport</td>\n",
       "    </tr>\n",
       "    <tr>\n",
       "      <th>986</th>\n",
       "      <td>Vouchers 'to cut winter deaths'</td>\n",
       "      <td>Pensioners are being promised energy savings...</td>\n",
       "      <td>politics</td>\n",
       "    </tr>\n",
       "    <tr>\n",
       "      <th>706</th>\n",
       "      <td>John Peel replacement show begins</td>\n",
       "      <td>The permanent replacement for late DJ John P...</td>\n",
       "      <td>entertainment</td>\n",
       "    </tr>\n",
       "  </tbody>\n",
       "</table>\n",
       "<p>1780 rows × 3 columns</p>\n",
       "</div>"
      ],
      "text/plain": [
       "                                  title  \\\n",
       "2171  Game makers get Xbox 2 sneak peek   \n",
       "545    Hanks greeted at wintry premiere   \n",
       "932             Profile: David Miliband   \n",
       "54     SA unveils 'more for all' budget   \n",
       "1724   Dominici backs lacklustre France   \n",
       "...                                 ...   \n",
       "1012  Boothroyd calls for Lords speaker   \n",
       "1476   Ajax refuse to rule out Jol move   \n",
       "1453  Benitez issues warning to Gerrard   \n",
       "986     Vouchers 'to cut winter deaths'   \n",
       "706   John Peel replacement show begins   \n",
       "\n",
       "                                                   text          label  \n",
       "2171    Microsoft has given game makers a glimpse of...           tech  \n",
       "545     Hollywood star Tom Hanks was in London's Lei...  entertainment  \n",
       "932     David Miliband's rapid rise through the rank...       politics  \n",
       "54      The South African government has put tax cut...       business  \n",
       "1724    Wing Christophe Dominici says France can cla...          sport  \n",
       "...                                                 ...            ...  \n",
       "1012    Betty Boothroyd has said the House of Lords ...       politics  \n",
       "1476    Ajax have refused to reveal whether Tottenha...          sport  \n",
       "1453    Liverpool manager Rafael Benitez has ordered...          sport  \n",
       "986     Pensioners are being promised energy savings...       politics  \n",
       "706     The permanent replacement for late DJ John P...  entertainment  \n",
       "\n",
       "[1780 rows x 3 columns]"
      ]
     },
     "execution_count": 12,
     "metadata": {},
     "output_type": "execute_result"
    }
   ],
   "source": [
    "train"
   ]
  },
  {
   "cell_type": "code",
   "execution_count": 13,
   "metadata": {},
   "outputs": [
    {
     "data": {
      "text/html": [
       "<div>\n",
       "<style scoped>\n",
       "    .dataframe tbody tr th:only-of-type {\n",
       "        vertical-align: middle;\n",
       "    }\n",
       "\n",
       "    .dataframe tbody tr th {\n",
       "        vertical-align: top;\n",
       "    }\n",
       "\n",
       "    .dataframe thead th {\n",
       "        text-align: right;\n",
       "    }\n",
       "</style>\n",
       "<table border=\"1\" class=\"dataframe\">\n",
       "  <thead>\n",
       "    <tr style=\"text-align: right;\">\n",
       "      <th></th>\n",
       "      <th>label</th>\n",
       "      <th>text</th>\n",
       "    </tr>\n",
       "  </thead>\n",
       "  <tbody>\n",
       "    <tr>\n",
       "      <th>2171</th>\n",
       "      <td>tech</td>\n",
       "      <td>Microsoft has given game makers a glimpse of...</td>\n",
       "    </tr>\n",
       "    <tr>\n",
       "      <th>545</th>\n",
       "      <td>entertainment</td>\n",
       "      <td>Hollywood star Tom Hanks was in London's Lei...</td>\n",
       "    </tr>\n",
       "    <tr>\n",
       "      <th>932</th>\n",
       "      <td>politics</td>\n",
       "      <td>David Miliband's rapid rise through the rank...</td>\n",
       "    </tr>\n",
       "    <tr>\n",
       "      <th>54</th>\n",
       "      <td>business</td>\n",
       "      <td>The South African government has put tax cut...</td>\n",
       "    </tr>\n",
       "    <tr>\n",
       "      <th>1724</th>\n",
       "      <td>sport</td>\n",
       "      <td>Wing Christophe Dominici says France can cla...</td>\n",
       "    </tr>\n",
       "  </tbody>\n",
       "</table>\n",
       "</div>"
      ],
      "text/plain": [
       "              label                                               text\n",
       "2171           tech    Microsoft has given game makers a glimpse of...\n",
       "545   entertainment    Hollywood star Tom Hanks was in London's Lei...\n",
       "932        politics    David Miliband's rapid rise through the rank...\n",
       "54         business    The South African government has put tax cut...\n",
       "1724          sport    Wing Christophe Dominici says France can cla..."
      ]
     },
     "execution_count": 13,
     "metadata": {},
     "output_type": "execute_result"
    }
   ],
   "source": [
    "text_df = train[['label', 'text']]\n",
    "text_df.head()"
   ]
  },
  {
   "cell_type": "code",
   "execution_count": 14,
   "metadata": {},
   "outputs": [
    {
     "data": {
      "text/plain": [
       "(1780, 2)"
      ]
     },
     "execution_count": 14,
     "metadata": {},
     "output_type": "execute_result"
    }
   ],
   "source": [
    "text_df.shape"
   ]
  },
  {
   "cell_type": "code",
   "execution_count": 15,
   "metadata": {},
   "outputs": [
    {
     "name": "stdout",
     "output_type": "stream",
     "text": [
      "<class 'pandas.core.frame.DataFrame'>\n",
      "Int64Index: 1780 entries, 2171 to 706\n",
      "Data columns (total 2 columns):\n",
      " #   Column  Non-Null Count  Dtype \n",
      "---  ------  --------------  ----- \n",
      " 0   label   1780 non-null   object\n",
      " 1   text    1780 non-null   object\n",
      "dtypes: object(2)\n",
      "memory usage: 41.7+ KB\n"
     ]
    }
   ],
   "source": [
    "text_df.info()"
   ]
  },
  {
   "cell_type": "code",
   "execution_count": 17,
   "metadata": {},
   "outputs": [
    {
     "data": {
      "text/plain": [
       "label    0\n",
       "text     0\n",
       "dtype: int64"
      ]
     },
     "execution_count": 17,
     "metadata": {},
     "output_type": "execute_result"
    }
   ],
   "source": [
    "text_df.isnull().sum()"
   ]
  },
  {
   "cell_type": "code",
   "execution_count": 18,
   "metadata": {},
   "outputs": [
    {
     "data": {
      "text/plain": [
       "'  The owners of embattled Russian oil giant Yukos are to ask the buyer of its former production unit to pay back a $900m (£479m) loan.  State-owned Rosneft bought the Yugansk unit for $9.3bn in a sale forced by Russia to part settle a $27.5bn tax claim against Yukos. Yukos\\' owner Menatep Group says it will ask Rosneft to repay a loan that Yugansk had secured on its assets. Rosneft already faces a similar $540m repayment demand from foreign banks. Legal experts said Rosneft\\'s purchase of Yugansk would include such obligations. \"The pledged assets are with Rosneft, so it will have to pay real money to the creditors to avoid seizure of Yugansk assets,\" said Moscow-based US lawyer Jamie Firestone, who is not connected to the case. Menatep Group\\'s managing director Tim Osborne told the Reuters news agency: \"If they default, we will fight them where the rule of law exists under the international arbitration clauses of the credit.\"  Rosneft officials were unavailable for comment. But the company has said it intends to take action against Menatep to recover some of the tax claims and debts owed by Yugansk. Yukos had filed for bankruptcy protection in a US court in an attempt to prevent the forced sale of its main production arm. The sale went ahead in December and Yugansk was sold to a little-known shell company which in turn was bought by Rosneft. Yukos claims its downfall was punishment for the political ambitions of its founder Mikhail Khodorkovsky and has vowed to sue any participant in the sale.'"
      ]
     },
     "execution_count": 18,
     "metadata": {},
     "output_type": "execute_result"
    }
   ],
   "source": [
    "text_df['text'][2]"
   ]
  },
  {
   "cell_type": "code",
   "execution_count": 19,
   "metadata": {},
   "outputs": [
    {
     "name": "stderr",
     "output_type": "stream",
     "text": [
      "C:\\Users\\sudharsan.s\\Anaconda3\\envs\\Doc_class\\lib\\site-packages\\ipykernel_launcher.py:1: SettingWithCopyWarning: \n",
      "A value is trying to be set on a copy of a slice from a DataFrame.\n",
      "Try using .loc[row_indexer,col_indexer] = value instead\n",
      "\n",
      "See the caveats in the documentation: https://pandas.pydata.org/pandas-docs/stable/user_guide/indexing.html#returning-a-view-versus-a-copy\n",
      "  \"\"\"Entry point for launching an IPython kernel.\n"
     ]
    }
   ],
   "source": [
    "text_df['text']=text_df['text'].astype(str)"
   ]
  },
  {
   "cell_type": "code",
   "execution_count": 20,
   "metadata": {},
   "outputs": [
    {
     "name": "stdout",
     "output_type": "stream",
     "text": [
      "688509\n"
     ]
    }
   ],
   "source": [
    "# Total number of words in the data\n",
    "print(text_df['text'].apply(lambda x: len(x.split(' '))).sum())"
   ]
  },
  {
   "cell_type": "code",
   "execution_count": 21,
   "metadata": {},
   "outputs": [
    {
     "name": "stderr",
     "output_type": "stream",
     "text": [
      "C:\\Users\\sudharsan.s\\Anaconda3\\envs\\Doc_class\\lib\\site-packages\\ipykernel_launcher.py:1: SettingWithCopyWarning: \n",
      "A value is trying to be set on a copy of a slice from a DataFrame\n",
      "\n",
      "See the caveats in the documentation: https://pandas.pydata.org/pandas-docs/stable/user_guide/indexing.html#returning-a-view-versus-a-copy\n",
      "  \"\"\"Entry point for launching an IPython kernel.\n"
     ]
    }
   ],
   "source": [
    "text_df.dropna(subset=['text'], inplace=True)"
   ]
  },
  {
   "cell_type": "code",
   "execution_count": 22,
   "metadata": {},
   "outputs": [
    {
     "data": {
      "text/plain": [
       "label    0\n",
       "text     0\n",
       "dtype: int64"
      ]
     },
     "execution_count": 22,
     "metadata": {},
     "output_type": "execute_result"
    }
   ],
   "source": [
    "text_df.isnull().sum()"
   ]
  },
  {
   "cell_type": "code",
   "execution_count": 23,
   "metadata": {},
   "outputs": [
    {
     "data": {
      "text/html": [
       "<div>\n",
       "<style scoped>\n",
       "    .dataframe tbody tr th:only-of-type {\n",
       "        vertical-align: middle;\n",
       "    }\n",
       "\n",
       "    .dataframe tbody tr th {\n",
       "        vertical-align: top;\n",
       "    }\n",
       "\n",
       "    .dataframe thead th {\n",
       "        text-align: right;\n",
       "    }\n",
       "</style>\n",
       "<table border=\"1\" class=\"dataframe\">\n",
       "  <thead>\n",
       "    <tr style=\"text-align: right;\">\n",
       "      <th></th>\n",
       "      <th>label</th>\n",
       "      <th>text</th>\n",
       "      <th>length</th>\n",
       "    </tr>\n",
       "  </thead>\n",
       "  <tbody>\n",
       "    <tr>\n",
       "      <th>2171</th>\n",
       "      <td>tech</td>\n",
       "      <td>Microsoft has given game makers a glimpse of...</td>\n",
       "      <td>2556</td>\n",
       "    </tr>\n",
       "    <tr>\n",
       "      <th>545</th>\n",
       "      <td>entertainment</td>\n",
       "      <td>Hollywood star Tom Hanks was in London's Lei...</td>\n",
       "      <td>1320</td>\n",
       "    </tr>\n",
       "    <tr>\n",
       "      <th>932</th>\n",
       "      <td>politics</td>\n",
       "      <td>David Miliband's rapid rise through the rank...</td>\n",
       "      <td>1266</td>\n",
       "    </tr>\n",
       "    <tr>\n",
       "      <th>54</th>\n",
       "      <td>business</td>\n",
       "      <td>The South African government has put tax cut...</td>\n",
       "      <td>2018</td>\n",
       "    </tr>\n",
       "    <tr>\n",
       "      <th>1724</th>\n",
       "      <td>sport</td>\n",
       "      <td>Wing Christophe Dominici says France can cla...</td>\n",
       "      <td>1802</td>\n",
       "    </tr>\n",
       "  </tbody>\n",
       "</table>\n",
       "</div>"
      ],
      "text/plain": [
       "              label                                               text  length\n",
       "2171           tech    Microsoft has given game makers a glimpse of...    2556\n",
       "545   entertainment    Hollywood star Tom Hanks was in London's Lei...    1320\n",
       "932        politics    David Miliband's rapid rise through the rank...    1266\n",
       "54         business    The South African government has put tax cut...    2018\n",
       "1724          sport    Wing Christophe Dominici says France can cla...    1802"
      ]
     },
     "execution_count": 23,
     "metadata": {},
     "output_type": "execute_result"
    }
   ],
   "source": [
    "text_df['length'] = text_df['text'].apply(len)\n",
    "text_df.head()"
   ]
  },
  {
   "cell_type": "code",
   "execution_count": 24,
   "metadata": {},
   "outputs": [
    {
     "data": {
      "text/plain": [
       "array(['tech', 'entertainment', 'politics', 'business', 'sport'],\n",
       "      dtype=object)"
      ]
     },
     "execution_count": 24,
     "metadata": {},
     "output_type": "execute_result"
    }
   ],
   "source": [
    "text_df.label.unique()"
   ]
  },
  {
   "cell_type": "code",
   "execution_count": 25,
   "metadata": {},
   "outputs": [
    {
     "data": {
      "text/plain": [
       "sport            416\n",
       "business         400\n",
       "politics         338\n",
       "tech             316\n",
       "entertainment    310\n",
       "Name: label, dtype: int64"
      ]
     },
     "execution_count": 25,
     "metadata": {},
     "output_type": "execute_result"
    }
   ],
   "source": [
    "text_df.label.value_counts()"
   ]
  },
  {
   "cell_type": "code",
   "execution_count": 28,
   "metadata": {},
   "outputs": [
    {
     "data": {
      "text/html": [
       "<div>\n",
       "<style scoped>\n",
       "    .dataframe tbody tr th:only-of-type {\n",
       "        vertical-align: middle;\n",
       "    }\n",
       "\n",
       "    .dataframe tbody tr th {\n",
       "        vertical-align: top;\n",
       "    }\n",
       "\n",
       "    .dataframe thead th {\n",
       "        text-align: right;\n",
       "    }\n",
       "</style>\n",
       "<table border=\"1\" class=\"dataframe\">\n",
       "  <thead>\n",
       "    <tr style=\"text-align: right;\">\n",
       "      <th></th>\n",
       "      <th>title</th>\n",
       "      <th>text</th>\n",
       "      <th>label</th>\n",
       "    </tr>\n",
       "  </thead>\n",
       "  <tbody>\n",
       "    <tr>\n",
       "      <th>1538</th>\n",
       "      <td>Wolves appoint Hoddle as manager</td>\n",
       "      <td>Glenn Hoddle will be unveiled as the new Wol...</td>\n",
       "      <td>sport</td>\n",
       "    </tr>\n",
       "    <tr>\n",
       "      <th>1037</th>\n",
       "      <td>EU referendum question unveiled</td>\n",
       "      <td>The question to be asked in the referendum o...</td>\n",
       "      <td>politics</td>\n",
       "    </tr>\n",
       "    <tr>\n",
       "      <th>1123</th>\n",
       "      <td>Labour pig poster 'anti-Semitic'</td>\n",
       "      <td>The Labour Party has been accused of anti-Se...</td>\n",
       "      <td>politics</td>\n",
       "    </tr>\n",
       "    <tr>\n",
       "      <th>735</th>\n",
       "      <td>Fox 'too reliant on reality TV'</td>\n",
       "      <td>The head of US TV network Fox has admitted t...</td>\n",
       "      <td>entertainment</td>\n",
       "    </tr>\n",
       "    <tr>\n",
       "      <th>1997</th>\n",
       "      <td>Gadgets galore on show at fair</td>\n",
       "      <td>The 2005 Consumer Electronics Show in Las Ve...</td>\n",
       "      <td>tech</td>\n",
       "    </tr>\n",
       "    <tr>\n",
       "      <th>...</th>\n",
       "      <td>...</td>\n",
       "      <td>...</td>\n",
       "      <td>...</td>\n",
       "    </tr>\n",
       "    <tr>\n",
       "      <th>146</th>\n",
       "      <td>Malaysia lifts Islamic bank limit</td>\n",
       "      <td>Malaysia's central bank is to relax restrict...</td>\n",
       "      <td>business</td>\n",
       "    </tr>\n",
       "    <tr>\n",
       "      <th>246</th>\n",
       "      <td>Renault boss hails 'great year'</td>\n",
       "      <td>Strong sales outside western Europe helped R...</td>\n",
       "      <td>business</td>\n",
       "    </tr>\n",
       "    <tr>\n",
       "      <th>1025</th>\n",
       "      <td>Blair told to double overseas aid</td>\n",
       "      <td>Tony Blair is being urged to use all his neg...</td>\n",
       "      <td>politics</td>\n",
       "    </tr>\n",
       "    <tr>\n",
       "      <th>1696</th>\n",
       "      <td>Borders 19-20 Ulster</td>\n",
       "      <td>Ulster clung on for a morale-boosting Celtic...</td>\n",
       "      <td>sport</td>\n",
       "    </tr>\n",
       "    <tr>\n",
       "      <th>1460</th>\n",
       "      <td>Palace threat over Cantona masks</td>\n",
       "      <td>Manchester United fans wearing Eric Cantona ...</td>\n",
       "      <td>sport</td>\n",
       "    </tr>\n",
       "  </tbody>\n",
       "</table>\n",
       "<p>445 rows × 3 columns</p>\n",
       "</div>"
      ],
      "text/plain": [
       "                                  title  \\\n",
       "1538   Wolves appoint Hoddle as manager   \n",
       "1037    EU referendum question unveiled   \n",
       "1123   Labour pig poster 'anti-Semitic'   \n",
       "735     Fox 'too reliant on reality TV'   \n",
       "1997     Gadgets galore on show at fair   \n",
       "...                                 ...   \n",
       "146   Malaysia lifts Islamic bank limit   \n",
       "246     Renault boss hails 'great year'   \n",
       "1025  Blair told to double overseas aid   \n",
       "1696               Borders 19-20 Ulster   \n",
       "1460   Palace threat over Cantona masks   \n",
       "\n",
       "                                                   text          label  \n",
       "1538    Glenn Hoddle will be unveiled as the new Wol...          sport  \n",
       "1037    The question to be asked in the referendum o...       politics  \n",
       "1123    The Labour Party has been accused of anti-Se...       politics  \n",
       "735     The head of US TV network Fox has admitted t...  entertainment  \n",
       "1997    The 2005 Consumer Electronics Show in Las Ve...           tech  \n",
       "...                                                 ...            ...  \n",
       "146     Malaysia's central bank is to relax restrict...       business  \n",
       "246     Strong sales outside western Europe helped R...       business  \n",
       "1025    Tony Blair is being urged to use all his neg...       politics  \n",
       "1696    Ulster clung on for a morale-boosting Celtic...          sport  \n",
       "1460    Manchester United fans wearing Eric Cantona ...          sport  \n",
       "\n",
       "[445 rows x 3 columns]"
      ]
     },
     "execution_count": 28,
     "metadata": {},
     "output_type": "execute_result"
    }
   ],
   "source": [
    "test"
   ]
  },
  {
   "cell_type": "code",
   "execution_count": 72,
   "metadata": {},
   "outputs": [
    {
     "data": {
      "text/plain": [
       "business         110\n",
       "sport             95\n",
       "tech              85\n",
       "politics          79\n",
       "entertainment     76\n",
       "Name: label, dtype: int64"
      ]
     },
     "execution_count": 72,
     "metadata": {},
     "output_type": "execute_result"
    }
   ],
   "source": [
    "textdf.label.value_counts()"
   ]
  },
  {
   "cell_type": "code",
   "execution_count": 29,
   "metadata": {},
   "outputs": [
    {
     "data": {
      "text/html": [
       "<div>\n",
       "<style scoped>\n",
       "    .dataframe tbody tr th:only-of-type {\n",
       "        vertical-align: middle;\n",
       "    }\n",
       "\n",
       "    .dataframe tbody tr th {\n",
       "        vertical-align: top;\n",
       "    }\n",
       "\n",
       "    .dataframe thead th {\n",
       "        text-align: right;\n",
       "    }\n",
       "</style>\n",
       "<table border=\"1\" class=\"dataframe\">\n",
       "  <thead>\n",
       "    <tr style=\"text-align: right;\">\n",
       "      <th></th>\n",
       "      <th>label</th>\n",
       "      <th>text</th>\n",
       "    </tr>\n",
       "  </thead>\n",
       "  <tbody>\n",
       "    <tr>\n",
       "      <th>1538</th>\n",
       "      <td>sport</td>\n",
       "      <td>Glenn Hoddle will be unveiled as the new Wol...</td>\n",
       "    </tr>\n",
       "    <tr>\n",
       "      <th>1037</th>\n",
       "      <td>politics</td>\n",
       "      <td>The question to be asked in the referendum o...</td>\n",
       "    </tr>\n",
       "    <tr>\n",
       "      <th>1123</th>\n",
       "      <td>politics</td>\n",
       "      <td>The Labour Party has been accused of anti-Se...</td>\n",
       "    </tr>\n",
       "    <tr>\n",
       "      <th>735</th>\n",
       "      <td>entertainment</td>\n",
       "      <td>The head of US TV network Fox has admitted t...</td>\n",
       "    </tr>\n",
       "    <tr>\n",
       "      <th>1997</th>\n",
       "      <td>tech</td>\n",
       "      <td>The 2005 Consumer Electronics Show in Las Ve...</td>\n",
       "    </tr>\n",
       "  </tbody>\n",
       "</table>\n",
       "</div>"
      ],
      "text/plain": [
       "              label                                               text\n",
       "1538          sport    Glenn Hoddle will be unveiled as the new Wol...\n",
       "1037       politics    The question to be asked in the referendum o...\n",
       "1123       politics    The Labour Party has been accused of anti-Se...\n",
       "735   entertainment    The head of US TV network Fox has admitted t...\n",
       "1997           tech    The 2005 Consumer Electronics Show in Las Ve..."
      ]
     },
     "execution_count": 29,
     "metadata": {},
     "output_type": "execute_result"
    }
   ],
   "source": [
    "textdf = test[['label', 'text']]\n",
    "textdf.head()"
   ]
  },
  {
   "cell_type": "code",
   "execution_count": 30,
   "metadata": {},
   "outputs": [
    {
     "name": "stderr",
     "output_type": "stream",
     "text": [
      "C:\\Users\\sudharsan.s\\Anaconda3\\envs\\Doc_class\\lib\\site-packages\\ipykernel_launcher.py:1: SettingWithCopyWarning: \n",
      "A value is trying to be set on a copy of a slice from a DataFrame.\n",
      "Try using .loc[row_indexer,col_indexer] = value instead\n",
      "\n",
      "See the caveats in the documentation: https://pandas.pydata.org/pandas-docs/stable/user_guide/indexing.html#returning-a-view-versus-a-copy\n",
      "  \"\"\"Entry point for launching an IPython kernel.\n"
     ]
    }
   ],
   "source": [
    "textdf['text']=textdf['text'].astype(str)"
   ]
  },
  {
   "cell_type": "code",
   "execution_count": 31,
   "metadata": {},
   "outputs": [
    {
     "name": "stderr",
     "output_type": "stream",
     "text": [
      "C:\\Users\\sudharsan.s\\Anaconda3\\envs\\Doc_class\\lib\\site-packages\\ipykernel_launcher.py:1: SettingWithCopyWarning: \n",
      "A value is trying to be set on a copy of a slice from a DataFrame\n",
      "\n",
      "See the caveats in the documentation: https://pandas.pydata.org/pandas-docs/stable/user_guide/indexing.html#returning-a-view-versus-a-copy\n",
      "  \"\"\"Entry point for launching an IPython kernel.\n"
     ]
    }
   ],
   "source": [
    "textdf.dropna(subset=['text'], inplace=True)"
   ]
  },
  {
   "cell_type": "code",
   "execution_count": 32,
   "metadata": {},
   "outputs": [
    {
     "data": {
      "text/html": [
       "<div>\n",
       "<style scoped>\n",
       "    .dataframe tbody tr th:only-of-type {\n",
       "        vertical-align: middle;\n",
       "    }\n",
       "\n",
       "    .dataframe tbody tr th {\n",
       "        vertical-align: top;\n",
       "    }\n",
       "\n",
       "    .dataframe thead th {\n",
       "        text-align: right;\n",
       "    }\n",
       "</style>\n",
       "<table border=\"1\" class=\"dataframe\">\n",
       "  <thead>\n",
       "    <tr style=\"text-align: right;\">\n",
       "      <th></th>\n",
       "      <th>label</th>\n",
       "      <th>text</th>\n",
       "      <th>length</th>\n",
       "    </tr>\n",
       "  </thead>\n",
       "  <tbody>\n",
       "    <tr>\n",
       "      <th>1538</th>\n",
       "      <td>sport</td>\n",
       "      <td>Glenn Hoddle will be unveiled as the new Wol...</td>\n",
       "      <td>1365</td>\n",
       "    </tr>\n",
       "    <tr>\n",
       "      <th>1037</th>\n",
       "      <td>politics</td>\n",
       "      <td>The question to be asked in the referendum o...</td>\n",
       "      <td>3181</td>\n",
       "    </tr>\n",
       "    <tr>\n",
       "      <th>1123</th>\n",
       "      <td>politics</td>\n",
       "      <td>The Labour Party has been accused of anti-Se...</td>\n",
       "      <td>1747</td>\n",
       "    </tr>\n",
       "    <tr>\n",
       "      <th>735</th>\n",
       "      <td>entertainment</td>\n",
       "      <td>The head of US TV network Fox has admitted t...</td>\n",
       "      <td>1614</td>\n",
       "    </tr>\n",
       "    <tr>\n",
       "      <th>1997</th>\n",
       "      <td>tech</td>\n",
       "      <td>The 2005 Consumer Electronics Show in Las Ve...</td>\n",
       "      <td>5066</td>\n",
       "    </tr>\n",
       "  </tbody>\n",
       "</table>\n",
       "</div>"
      ],
      "text/plain": [
       "              label                                               text  length\n",
       "1538          sport    Glenn Hoddle will be unveiled as the new Wol...    1365\n",
       "1037       politics    The question to be asked in the referendum o...    3181\n",
       "1123       politics    The Labour Party has been accused of anti-Se...    1747\n",
       "735   entertainment    The head of US TV network Fox has admitted t...    1614\n",
       "1997           tech    The 2005 Consumer Electronics Show in Las Ve...    5066"
      ]
     },
     "execution_count": 32,
     "metadata": {},
     "output_type": "execute_result"
    }
   ],
   "source": [
    "textdf['length'] = textdf['text'].apply(len)\n",
    "textdf.head()"
   ]
  },
  {
   "cell_type": "markdown",
   "metadata": {},
   "source": [
    "# Vizualization"
   ]
  },
  {
   "cell_type": "code",
   "execution_count": 73,
   "metadata": {},
   "outputs": [
    {
     "data": {
      "image/png": "[encoded data removed]",
      "text/plain": [
       "<Figure size 432x288 with 1 Axes>"
      ]
     },
     "metadata": {
      "needs_background": "light"
     },
     "output_type": "display_data"
    }
   ],
   "source": [
    "sns.countplot(x='label',data=textdf, saturation=0.75)\n",
    "plt.xlabel('Type of text')\n",
    "plt.title('Number of words in each group');"
   ]
  },
  {
   "cell_type": "code",
   "execution_count": 36,
   "metadata": {},
   "outputs": [
    {
     "data": {
      "image/png": "[encoded data removed]",
      "text/plain": [
       "<Figure size 576x360 with 1 Axes>"
      ]
     },
     "metadata": {
      "needs_background": "light"
     },
     "output_type": "display_data"
    }
   ],
   "source": [
    "plt.figure(figsize=(8, 5))\n",
    "textdf[textdf.label == 'tech'].length.plot(bins=35, kind='hist', color='green', label='tech', alpha=0.6)\n",
    "textdf[textdf.label == 'entertainment'].length.plot(kind='hist', color='blue', label='entertainment', alpha=0.6)\n",
    "textdf[textdf.label == 'politics'].length.plot(kind='hist', color='red', label='politics', alpha=0.6)\n",
    "textdf[textdf.label == 'business'].length.plot(kind='hist', color='yellow', label='business', alpha=0.6)\n",
    "textdf[textdf.label == 'sport'].length.plot(kind='hist', color='pink', label='sport', alpha=0.6)\n",
    "plt.legend()\n",
    "plt.xlabel(\"Length description\");"
   ]
  },
  {
   "cell_type": "code",
   "execution_count": 37,
   "metadata": {},
   "outputs": [
    {
     "data": {
      "image/png": "[encoded data removed]",
      "text/plain": [
       "<Figure size 864x864 with 6 Axes>"
      ]
     },
     "metadata": {
      "needs_background": "light"
     },
     "output_type": "display_data"
    }
   ],
   "source": [
    "textdf.hist(column='length', by='label', bins=50,figsize=(12,12));"
   ]
  },
  {
   "cell_type": "markdown",
   "metadata": {},
   "source": [
    "# Text pre-processing"
   ]
  },
  {
   "cell_type": "code",
   "execution_count": 38,
   "metadata": {},
   "outputs": [
    {
     "name": "stdout",
     "output_type": "stream",
     "text": [
      "['i', \"you've\", 'himself', 'they', 'that', 'been', 'a', 'while', 'through', 'in', 'here', 'few', 'own', 'just', 're', 'doesn', 'ma', \"shouldn't\"]\n"
     ]
    }
   ],
   "source": [
    "stop = stopwords.words('english')\n",
    "print(stop[::10])\n",
    "\n",
    "porter = PorterStemmer()"
   ]
  },
  {
   "cell_type": "code",
   "execution_count": 39,
   "metadata": {},
   "outputs": [],
   "source": [
    "def remove_punctuation(description):\n",
    "    \"\"\"The function to remove punctuation\"\"\"\n",
    "    table = str.maketrans('', '', string.punctuation)\n",
    "    return description.translate(table)\n",
    "\n",
    "def remove_stopwords(text):\n",
    "    \"\"\"The function to removing stopwords\"\"\"\n",
    "    text = [word.lower() for word in text.split() if word.lower() not in stop]\n",
    "    return \" \".join(text)\n",
    "\n",
    "def stemmer(stem_text):\n",
    "    \"\"\"The function to apply stemming\"\"\"\n",
    "    stem_text = [porter.stem(word) for word in stem_text.split()]\n",
    "    return \" \".join(stem_text)"
   ]
  },
  {
   "cell_type": "code",
   "execution_count": 40,
   "metadata": {},
   "outputs": [],
   "source": [
    "textdf['text'] = textdf['text'].apply(remove_punctuation)\n",
    "textdf['text'] = textdf['text'].apply(remove_stopwords)\n",
    "textdf['text'] = textdf['text'].apply(stemmer)"
   ]
  },
  {
   "cell_type": "code",
   "execution_count": 46,
   "metadata": {},
   "outputs": [
    {
     "data": {
      "text/html": [
       "<div>\n",
       "<style scoped>\n",
       "    .dataframe tbody tr th:only-of-type {\n",
       "        vertical-align: middle;\n",
       "    }\n",
       "\n",
       "    .dataframe tbody tr th {\n",
       "        vertical-align: top;\n",
       "    }\n",
       "\n",
       "    .dataframe thead th {\n",
       "        text-align: right;\n",
       "    }\n",
       "</style>\n",
       "<table border=\"1\" class=\"dataframe\">\n",
       "  <thead>\n",
       "    <tr style=\"text-align: right;\">\n",
       "      <th></th>\n",
       "      <th>label</th>\n",
       "      <th>text</th>\n",
       "      <th>length</th>\n",
       "    </tr>\n",
       "  </thead>\n",
       "  <tbody>\n",
       "    <tr>\n",
       "      <th>1538</th>\n",
       "      <td>sport</td>\n",
       "      <td>glenn hoddl unveil new wolv manag tuesday club...</td>\n",
       "      <td>1365</td>\n",
       "    </tr>\n",
       "    <tr>\n",
       "      <th>1037</th>\n",
       "      <td>politics</td>\n",
       "      <td>question ask referendum eu constitut unveil go...</td>\n",
       "      <td>3181</td>\n",
       "    </tr>\n",
       "    <tr>\n",
       "      <th>1123</th>\n",
       "      <td>politics</td>\n",
       "      <td>labour parti accus antisemit poster depict mic...</td>\n",
       "      <td>1747</td>\n",
       "    </tr>\n",
       "    <tr>\n",
       "      <th>735</th>\n",
       "      <td>entertainment</td>\n",
       "      <td>head us tv network fox admit broadcast reli he...</td>\n",
       "      <td>1614</td>\n",
       "    </tr>\n",
       "    <tr>\n",
       "      <th>1997</th>\n",
       "      <td>tech</td>\n",
       "      <td>2005 consum electron show la vega geek paradis...</td>\n",
       "      <td>5066</td>\n",
       "    </tr>\n",
       "  </tbody>\n",
       "</table>\n",
       "</div>"
      ],
      "text/plain": [
       "              label                                               text  length\n",
       "1538          sport  glenn hoddl unveil new wolv manag tuesday club...    1365\n",
       "1037       politics  question ask referendum eu constitut unveil go...    3181\n",
       "1123       politics  labour parti accus antisemit poster depict mic...    1747\n",
       "735   entertainment  head us tv network fox admit broadcast reli he...    1614\n",
       "1997           tech  2005 consum electron show la vega geek paradis...    5066"
      ]
     },
     "execution_count": 46,
     "metadata": {},
     "output_type": "execute_result"
    }
   ],
   "source": [
    "textdf.head()"
   ]
  },
  {
   "cell_type": "markdown",
   "metadata": {},
   "source": [
    "# POS Tagging\n"
   ]
  },
  {
   "cell_type": "markdown",
   "metadata": {},
   "source": [
    "To get the deeper insight to the way in which that word is used in speech, the Part of speech (POS) \n",
    "tagging method has been used. There are eight primary parts of speech and they each have a corresponding \n",
    "tag. The NLTK libary has a method to perform POS tagging."
   ]
  },
  {
   "cell_type": "code",
   "execution_count": 54,
   "metadata": {},
   "outputs": [
    {
     "data": {
      "text/plain": [
       "[('British', 'JJ'),\n",
       " ('Airways', 'NNP'),\n",
       " ('has', 'VBZ'),\n",
       " ('blamed', 'VBN'),\n",
       " ('high', 'JJ'),\n",
       " ('fuel', 'NN'),\n",
       " ('prices', 'NNS'),\n",
       " ('for', 'IN'),\n",
       " ('a', 'DT'),\n",
       " ('40', 'CD'),\n",
       " ('%', 'NN'),\n",
       " ('drop', 'NN'),\n",
       " ('in', 'IN'),\n",
       " ('profits', 'NNS'),\n",
       " ('.', '.'),\n",
       " ('Reporting', 'VBG'),\n",
       " ('its', 'PRP$'),\n",
       " ('results', 'NNS'),\n",
       " ('for', 'IN'),\n",
       " ('the', 'DT'),\n",
       " ('three', 'CD'),\n",
       " ('months', 'NNS'),\n",
       " ('to', 'TO'),\n",
       " ('31', 'CD'),\n",
       " ('December', 'NNP'),\n",
       " ('2004', 'CD'),\n",
       " (',', ','),\n",
       " ('the', 'DT'),\n",
       " ('airline', 'NN'),\n",
       " ('made', 'VBD'),\n",
       " ('a', 'DT'),\n",
       " ('pre-tax', 'JJ'),\n",
       " ('profit', 'NN'),\n",
       " ('of', 'IN'),\n",
       " ('£75m', 'NNP'),\n",
       " ('(', '('),\n",
       " ('$', '$'),\n",
       " ('141m', 'CD'),\n",
       " (')', ')'),\n",
       " ('compared', 'VBN'),\n",
       " ('with', 'IN'),\n",
       " ('£125m', 'NN'),\n",
       " ('a', 'DT'),\n",
       " ('year', 'NN'),\n",
       " ('earlier', 'RBR'),\n",
       " ('.', '.'),\n",
       " ('Rod', 'NNP'),\n",
       " ('Eddington', 'NNP'),\n",
       " (',', ','),\n",
       " ('BA', 'NNP'),\n",
       " (\"'s\", 'POS'),\n",
       " ('chief', 'JJ'),\n",
       " ('executive', 'NN'),\n",
       " (',', ','),\n",
       " ('said', 'VBD'),\n",
       " ('the', 'DT'),\n",
       " ('results', 'NNS'),\n",
       " ('were', 'VBD'),\n",
       " ('``', '``'),\n",
       " ('respectable', 'JJ'),\n",
       " (\"''\", \"''\"),\n",
       " ('in', 'IN'),\n",
       " ('a', 'DT'),\n",
       " ('third', 'JJ'),\n",
       " ('quarter', 'NN'),\n",
       " ('when', 'WRB'),\n",
       " ('fuel', 'NN'),\n",
       " ('costs', 'NNS'),\n",
       " ('rose', 'VBD'),\n",
       " ('by', 'IN'),\n",
       " ('£106m', 'NNP'),\n",
       " ('or', 'CC'),\n",
       " ('47.3', 'CD'),\n",
       " ('%', 'NN'),\n",
       " ('.', '.'),\n",
       " ('BA', 'NNP'),\n",
       " (\"'s\", 'POS'),\n",
       " ('profits', 'NNS'),\n",
       " ('were', 'VBD'),\n",
       " ('still', 'RB'),\n",
       " ('better', 'JJR'),\n",
       " ('than', 'IN'),\n",
       " ('market', 'NN'),\n",
       " ('expectation', 'NN'),\n",
       " ('of', 'IN'),\n",
       " ('£59m', 'NNP'),\n",
       " (',', ','),\n",
       " ('and', 'CC'),\n",
       " ('it', 'PRP'),\n",
       " ('expects', 'VBZ'),\n",
       " ('a', 'DT'),\n",
       " ('rise', 'NN'),\n",
       " ('in', 'IN'),\n",
       " ('full-year', 'JJ'),\n",
       " ('revenues', 'NNS'),\n",
       " ('.', '.'),\n",
       " ('To', 'TO'),\n",
       " ('help', 'VB'),\n",
       " ('offset', 'VB'),\n",
       " ('the', 'DT'),\n",
       " ('increased', 'JJ'),\n",
       " ('price', 'NN'),\n",
       " ('of', 'IN'),\n",
       " ('aviation', 'NN'),\n",
       " ('fuel', 'NN'),\n",
       " (',', ','),\n",
       " ('BA', 'NNP'),\n",
       " ('last', 'JJ'),\n",
       " ('year', 'NN'),\n",
       " ('introduced', 'VBD'),\n",
       " ('a', 'DT'),\n",
       " ('fuel', 'NN'),\n",
       " ('surcharge', 'NN'),\n",
       " ('for', 'IN'),\n",
       " ('passengers', 'NNS'),\n",
       " ('.', '.'),\n",
       " ('In', 'IN'),\n",
       " ('October', 'NNP'),\n",
       " (',', ','),\n",
       " ('it', 'PRP'),\n",
       " ('increased', 'VBD'),\n",
       " ('this', 'DT'),\n",
       " ('from', 'IN'),\n",
       " ('£6', 'NN'),\n",
       " ('to', 'TO'),\n",
       " ('£10', 'VB'),\n",
       " ('one-way', 'NN'),\n",
       " ('for', 'IN'),\n",
       " ('all', 'DT'),\n",
       " ('long-haul', 'JJ'),\n",
       " ('flights', 'NNS'),\n",
       " (',', ','),\n",
       " ('while', 'IN'),\n",
       " ('the', 'DT'),\n",
       " ('short-haul', 'JJ'),\n",
       " ('surcharge', 'NN'),\n",
       " ('was', 'VBD'),\n",
       " ('raised', 'VBN'),\n",
       " ('from', 'IN'),\n",
       " ('£2.50', 'NN'),\n",
       " ('to', 'TO'),\n",
       " ('£4', 'VB'),\n",
       " ('a', 'DT'),\n",
       " ('leg', 'NN'),\n",
       " ('.', '.'),\n",
       " ('Yet', 'CC'),\n",
       " ('aviation', 'JJ'),\n",
       " ('analyst', 'NN'),\n",
       " ('Mike', 'NNP'),\n",
       " ('Powell', 'NNP'),\n",
       " ('of', 'IN'),\n",
       " ('Dresdner', 'NNP'),\n",
       " ('Kleinwort', 'NNP'),\n",
       " ('Wasserstein', 'NNP'),\n",
       " ('says', 'VBZ'),\n",
       " ('BA', 'NNP'),\n",
       " (\"'s\", 'POS'),\n",
       " ('estimated', 'VBN'),\n",
       " ('annual', 'JJ'),\n",
       " ('surcharge', 'NN'),\n",
       " ('revenues', 'NNS'),\n",
       " ('-', ':'),\n",
       " ('£160m', 'SYM'),\n",
       " ('-', ':'),\n",
       " ('will', 'MD'),\n",
       " ('still', 'RB'),\n",
       " ('be', 'VB'),\n",
       " ('way', 'NN'),\n",
       " ('short', 'JJ'),\n",
       " ('of', 'IN'),\n",
       " ('its', 'PRP$'),\n",
       " ('additional', 'JJ'),\n",
       " ('fuel', 'NN'),\n",
       " ('costs', 'NNS'),\n",
       " ('-', ':'),\n",
       " ('a', 'DT'),\n",
       " ('predicted', 'JJ'),\n",
       " ('extra', 'JJ'),\n",
       " ('£250m', 'NN'),\n",
       " ('.', '.'),\n",
       " ('Turnover', 'NN'),\n",
       " ('for', 'IN'),\n",
       " ('the', 'DT'),\n",
       " ('quarter', 'NN'),\n",
       " ('was', 'VBD'),\n",
       " ('up', 'RB'),\n",
       " ('4.3', 'CD'),\n",
       " ('%', 'NN'),\n",
       " ('to', 'TO'),\n",
       " ('£1.97bn', 'VB'),\n",
       " (',', ','),\n",
       " ('further', 'JJ'),\n",
       " ('benefiting', 'NN'),\n",
       " ('from', 'IN'),\n",
       " ('a', 'DT'),\n",
       " ('rise', 'NN'),\n",
       " ('in', 'IN'),\n",
       " ('cargo', 'NN'),\n",
       " ('revenue', 'NN'),\n",
       " ('.', '.'),\n",
       " ('Looking', 'VBG'),\n",
       " ('ahead', 'RB'),\n",
       " ('to', 'TO'),\n",
       " ('its', 'PRP$'),\n",
       " ('full', 'JJ'),\n",
       " ('year', 'NN'),\n",
       " ('results', 'NNS'),\n",
       " ('to', 'TO'),\n",
       " ('March', 'NNP'),\n",
       " ('2005', 'CD'),\n",
       " (',', ','),\n",
       " ('BA', 'NNP'),\n",
       " ('warned', 'VBD'),\n",
       " ('that', 'IN'),\n",
       " ('yields', 'NNS'),\n",
       " ('-', ':'),\n",
       " ('average', 'JJ'),\n",
       " ('revenues', 'NNS'),\n",
       " ('per', 'IN'),\n",
       " ('passenger', 'NN'),\n",
       " ('-', ':'),\n",
       " ('were', 'VBD'),\n",
       " ('expected', 'VBN'),\n",
       " ('to', 'TO'),\n",
       " ('decline', 'VB'),\n",
       " ('as', 'IN'),\n",
       " ('it', 'PRP'),\n",
       " ('continues', 'VBZ'),\n",
       " ('to', 'TO'),\n",
       " ('lower', 'VB'),\n",
       " ('prices', 'NNS'),\n",
       " ('in', 'IN'),\n",
       " ('the', 'DT'),\n",
       " ('face', 'NN'),\n",
       " ('of', 'IN'),\n",
       " ('competition', 'NN'),\n",
       " ('from', 'IN'),\n",
       " ('low-cost', 'JJ'),\n",
       " ('carriers', 'NNS'),\n",
       " ('.', '.'),\n",
       " ('However', 'RB'),\n",
       " (',', ','),\n",
       " ('it', 'PRP'),\n",
       " ('said', 'VBD'),\n",
       " ('sales', 'NNS'),\n",
       " ('would', 'MD'),\n",
       " ('be', 'VB'),\n",
       " ('better', 'JJR'),\n",
       " ('than', 'IN'),\n",
       " ('previously', 'RB'),\n",
       " ('forecast', 'VBN'),\n",
       " ('.', '.'),\n",
       " ('``', '``'),\n",
       " ('For', 'IN'),\n",
       " ('the', 'DT'),\n",
       " ('year', 'NN'),\n",
       " ('to', 'TO'),\n",
       " ('March', 'NNP'),\n",
       " ('2005', 'CD'),\n",
       " (',', ','),\n",
       " ('the', 'DT'),\n",
       " ('total', 'JJ'),\n",
       " ('revenue', 'NN'),\n",
       " ('outlook', 'NN'),\n",
       " ('is', 'VBZ'),\n",
       " ('slightly', 'RB'),\n",
       " ('better', 'JJR'),\n",
       " ('than', 'IN'),\n",
       " ('previous', 'JJ'),\n",
       " ('guidance', 'NN'),\n",
       " ('with', 'IN'),\n",
       " ('a', 'DT'),\n",
       " ('3', 'CD'),\n",
       " ('%', 'NN'),\n",
       " ('to', 'TO'),\n",
       " ('3.5', 'CD'),\n",
       " ('%', 'NN'),\n",
       " ('improvement', 'NN'),\n",
       " ('anticipated', 'VBN'),\n",
       " (',', ','),\n",
       " (\"''\", \"''\"),\n",
       " ('BA', 'NNP'),\n",
       " ('chairman', 'NN'),\n",
       " ('Martin', 'NNP'),\n",
       " ('Broughton', 'NNP'),\n",
       " ('said', 'VBD'),\n",
       " ('.', '.'),\n",
       " ('BA', 'NNP'),\n",
       " ('had', 'VBD'),\n",
       " ('previously', 'RB'),\n",
       " ('forecast', 'VBN'),\n",
       " ('a', 'DT'),\n",
       " ('2', 'CD'),\n",
       " ('%', 'NN'),\n",
       " ('to', 'TO'),\n",
       " ('3', 'CD'),\n",
       " ('%', 'NN'),\n",
       " ('rise', 'NN'),\n",
       " ('in', 'IN'),\n",
       " ('full-year', 'JJ'),\n",
       " ('revenue', 'NN'),\n",
       " ('.', '.'),\n",
       " ('It', 'PRP'),\n",
       " ('also', 'RB'),\n",
       " ('reported', 'VBD'),\n",
       " ('on', 'IN'),\n",
       " ('Friday', 'NNP'),\n",
       " ('that', 'IN'),\n",
       " ('passenger', 'NN'),\n",
       " ('numbers', 'NNS'),\n",
       " ('rose', 'VBD'),\n",
       " ('8.1', 'CD'),\n",
       " ('%', 'NN'),\n",
       " ('in', 'IN'),\n",
       " ('January', 'NNP'),\n",
       " ('.', '.'),\n",
       " ('Aviation', 'NNP'),\n",
       " ('analyst', 'NN'),\n",
       " ('Nick', 'NNP'),\n",
       " ('Van', 'NNP'),\n",
       " ('den', 'JJ'),\n",
       " ('Brul', 'NNP'),\n",
       " ('of', 'IN'),\n",
       " ('BNP', 'NNP'),\n",
       " ('Paribas', 'NNP'),\n",
       " ('described', 'VBD'),\n",
       " ('BA', 'NNP'),\n",
       " (\"'s\", 'POS'),\n",
       " ('latest', 'JJS'),\n",
       " ('quarterly', 'JJ'),\n",
       " ('results', 'NNS'),\n",
       " ('as', 'IN'),\n",
       " ('``', '``'),\n",
       " ('pretty', 'JJ'),\n",
       " ('modest', 'JJ'),\n",
       " (\"''\", \"''\"),\n",
       " ('.', '.'),\n",
       " ('``', '``'),\n",
       " ('It', 'PRP'),\n",
       " ('is', 'VBZ'),\n",
       " ('quite', 'RB'),\n",
       " ('good', 'JJ'),\n",
       " ('on', 'IN'),\n",
       " ('the', 'DT'),\n",
       " ('revenue', 'NN'),\n",
       " ('side', 'NN'),\n",
       " ('and', 'CC'),\n",
       " ('it', 'PRP'),\n",
       " ('shows', 'VBZ'),\n",
       " ('the', 'DT'),\n",
       " ('impact', 'NN'),\n",
       " ('of', 'IN'),\n",
       " ('fuel', 'NN'),\n",
       " ('surcharges', 'NNS'),\n",
       " ('and', 'CC'),\n",
       " ('a', 'DT'),\n",
       " ('positive', 'JJ'),\n",
       " ('cargo', 'NN'),\n",
       " ('development', 'NN'),\n",
       " (',', ','),\n",
       " ('however', 'RB'),\n",
       " (',', ','),\n",
       " ('operating', 'VBG'),\n",
       " ('margins', 'NNS'),\n",
       " ('down', 'RP'),\n",
       " ('and', 'CC'),\n",
       " ('cost', 'JJ'),\n",
       " ('impact', 'NN'),\n",
       " ('of', 'IN'),\n",
       " ('fuel', 'NN'),\n",
       " ('are', 'VBP'),\n",
       " ('very', 'RB'),\n",
       " ('strong', 'JJ'),\n",
       " (',', ','),\n",
       " (\"''\", \"''\"),\n",
       " ('he', 'PRP'),\n",
       " ('said', 'VBD'),\n",
       " ('.', '.'),\n",
       " ('Since', 'IN'),\n",
       " ('the', 'DT'),\n",
       " ('11', 'CD'),\n",
       " ('September', 'NNP'),\n",
       " ('2001', 'CD'),\n",
       " ('attacks', 'NNS'),\n",
       " ('in', 'IN'),\n",
       " ('the', 'DT'),\n",
       " ('United', 'NNP'),\n",
       " ('States', 'NNPS'),\n",
       " (',', ','),\n",
       " ('BA', 'NNP'),\n",
       " ('has', 'VBZ'),\n",
       " ('cut', 'VBN'),\n",
       " ('13,000', 'CD'),\n",
       " ('jobs', 'NNS'),\n",
       " ('as', 'IN'),\n",
       " ('part', 'NN'),\n",
       " ('of', 'IN'),\n",
       " ('a', 'DT'),\n",
       " ('major', 'JJ'),\n",
       " ('cost-cutting', 'JJ'),\n",
       " ('drive', 'NN'),\n",
       " ('.', '.'),\n",
       " ('``', '``'),\n",
       " ('Our', 'PRP$'),\n",
       " ('focus', 'NN'),\n",
       " ('remains', 'VBZ'),\n",
       " ('on', 'IN'),\n",
       " ('reducing', 'VBG'),\n",
       " ('controllable', 'JJ'),\n",
       " ('costs', 'NNS'),\n",
       " ('and', 'CC'),\n",
       " ('debt', 'NN'),\n",
       " ('whilst', 'NN'),\n",
       " ('continuing', 'VBG'),\n",
       " ('to', 'TO'),\n",
       " ('invest', 'VB'),\n",
       " ('in', 'IN'),\n",
       " ('our', 'PRP$'),\n",
       " ('products', 'NNS'),\n",
       " (',', ','),\n",
       " (\"''\", \"''\"),\n",
       " ('Mr', 'NNP'),\n",
       " ('Eddington', 'NNP'),\n",
       " ('said', 'VBD'),\n",
       " ('.', '.'),\n",
       " ('``', '``'),\n",
       " ('For', 'IN'),\n",
       " ('example', 'NN'),\n",
       " (',', ','),\n",
       " ('we', 'PRP'),\n",
       " ('have', 'VBP'),\n",
       " ('taken', 'VBN'),\n",
       " ('delivery', 'NN'),\n",
       " ('of', 'IN'),\n",
       " ('six', 'CD'),\n",
       " ('Airbus', 'NNP'),\n",
       " ('A321', 'NNP'),\n",
       " ('aircraft', 'NN'),\n",
       " ('and', 'CC'),\n",
       " ('next', 'JJ'),\n",
       " ('month', 'NN'),\n",
       " ('we', 'PRP'),\n",
       " ('will', 'MD'),\n",
       " ('start', 'VB'),\n",
       " ('further', 'JJ'),\n",
       " ('improvements', 'NNS'),\n",
       " ('to', 'TO'),\n",
       " ('our', 'PRP$'),\n",
       " ('Club', 'NNP'),\n",
       " ('World', 'NNP'),\n",
       " ('flat', 'JJ'),\n",
       " ('beds', 'NNS'),\n",
       " ('.', '.'),\n",
       " (\"''\", \"''\"),\n",
       " ('BA', 'NNP'),\n",
       " (\"'s\", 'POS'),\n",
       " ('shares', 'NNS'),\n",
       " ('closed', 'VBD'),\n",
       " ('up', 'RP'),\n",
       " ('four', 'CD'),\n",
       " ('pence', 'NN'),\n",
       " ('at', 'IN'),\n",
       " ('274.5', 'CD'),\n",
       " ('pence', 'NN'),\n",
       " ('.', '.')]"
      ]
     },
     "execution_count": 54,
     "metadata": {},
     "output_type": "execute_result"
    }
   ],
   "source": [
    "import nltk\n",
    "tokens = text_df['text'][3]\n",
    "nltk.pos_tag(word_tokenize(tokens))"
   ]
  },
  {
   "cell_type": "markdown",
   "metadata": {},
   "source": [
    "# Bag of words"
   ]
  },
  {
   "cell_type": "markdown",
   "metadata": {},
   "source": [
    "To run machine learning algorithms we need to convert the text files into numerical feature vectors. \n",
    "We will use bag of words model for our analysis. In general we segment each text file into words and \n",
    "count of times each word occurs in each document and finally assign each word an integer id. Each unique \n",
    "word in our dictionary will correspond to a feature (descriptive feature). More precisely we will convert \n",
    "our text documents to a matrix of token counts (CountVectorizer), then transform a count matrix to a \n",
    "normalized tf-idf representation (tf-idf transformer)."
   ]
  },
  {
   "cell_type": "code",
   "execution_count": 55,
   "metadata": {},
   "outputs": [],
   "source": [
    "vectorizer = CountVectorizer()\n",
    "vectorizer.fit(text_df['text'])\n",
    "vector = vectorizer.transform(text_df['text'])"
   ]
  },
  {
   "cell_type": "code",
   "execution_count": 56,
   "metadata": {},
   "outputs": [
    {
     "name": "stdout",
     "output_type": "stream",
     "text": [
      "(1780, 26924)\n",
      "[[0 0 0 ... 0 0 0]\n",
      " [0 0 0 ... 0 0 0]\n",
      " [0 0 0 ... 0 0 0]\n",
      " ...\n",
      " [0 0 0 ... 0 0 0]\n",
      " [0 0 0 ... 0 0 0]\n",
      " [0 0 0 ... 0 0 0]]\n"
     ]
    }
   ],
   "source": [
    "print(vector.shape)\n",
    "print(vector.toarray())"
   ]
  },
  {
   "cell_type": "code",
   "execution_count": 57,
   "metadata": {},
   "outputs": [
    {
     "data": {
      "text/plain": [
       "array([[0., 0., 0., ..., 0., 0., 0.],\n",
       "       [0., 0., 0., ..., 0., 0., 0.],\n",
       "       [0., 0., 0., ..., 0., 0., 0.],\n",
       "       ...,\n",
       "       [0., 0., 0., ..., 0., 0., 0.],\n",
       "       [0., 0., 0., ..., 0., 0., 0.],\n",
       "       [0., 0., 0., ..., 0., 0., 0.]])"
      ]
     },
     "execution_count": 57,
     "metadata": {},
     "output_type": "execute_result"
    }
   ],
   "source": [
    "tfidf_converter = TfidfTransformer()\n",
    "X_tfidf = tfidf_converter.fit_transform(vector).toarray()\n",
    "X_tfidf"
   ]
  },
  {
   "cell_type": "code",
   "execution_count": 58,
   "metadata": {},
   "outputs": [],
   "source": [
    "X = text_df['text']\n",
    "y = text_df['label']\n",
    "\n",
    "X_train, X_test, y_train, y_test = train_test_split(X, y, test_size=0.25, random_state = 0)"
   ]
  },
  {
   "cell_type": "code",
   "execution_count": 59,
   "metadata": {},
   "outputs": [
    {
     "data": {
      "text/plain": [
       "((1335,), (445,), (1335,), (445,))"
      ]
     },
     "execution_count": 59,
     "metadata": {},
     "output_type": "execute_result"
    }
   ],
   "source": [
    "X_train.shape, X_test.shape, y_train.shape, y_test.shape"
   ]
  },
  {
   "cell_type": "markdown",
   "metadata": {},
   "source": [
    "# Models"
   ]
  },
  {
   "cell_type": "markdown",
   "metadata": {},
   "source": [
    "We used the Multi-Classification models.\n",
    "\n",
    "The classification models evaluated are:\n",
    "\n",
    "1.Logistic Regression,\n",
    "2.Linear Support Vector Machine,\n",
    "3.Multinomial Naive Bayes.\n",
    "4.Random Forest\n",
    "5.Gradient Boosting"
   ]
  },
  {
   "cell_type": "code",
   "execution_count": 60,
   "metadata": {},
   "outputs": [],
   "source": [
    "model_log = Pipeline([('vect', CountVectorizer(min_df=5, ngram_range=(1,2))),\n",
    "                      ('tfidf', TfidfTransformer()),\n",
    "                      ('model',LogisticRegression()),\n",
    "                     ])\n",
    "\n",
    "model_log.fit(X_train, y_train)\n",
    "\n",
    "ytest = np.array(y_test)\n",
    "pred = model_log.predict(X_test)"
   ]
  },
  {
   "cell_type": "code",
   "execution_count": 61,
   "metadata": {},
   "outputs": [
    {
     "name": "stdout",
     "output_type": "stream",
     "text": [
      "accuracy 0.9685393258426966\n",
      "               precision    recall  f1-score   support\n",
      "\n",
      "     business       0.92      0.98      0.95       101\n",
      "entertainment       1.00      0.94      0.97        72\n",
      "     politics       0.98      0.94      0.96        90\n",
      "        sport       0.99      0.99      0.99       102\n",
      "         tech       0.97      0.97      0.97        80\n",
      "\n",
      "     accuracy                           0.97       445\n",
      "    macro avg       0.97      0.97      0.97       445\n",
      " weighted avg       0.97      0.97      0.97       445\n",
      "\n"
     ]
    }
   ],
   "source": [
    "print('accuracy %s' % accuracy_score(pred, y_test))\n",
    "print(classification_report(ytest, pred))"
   ]
  },
  {
   "cell_type": "code",
   "execution_count": 62,
   "metadata": {},
   "outputs": [],
   "source": [
    "svc = Pipeline([('vect', CountVectorizer(min_df=5, ngram_range=(1,2))),\n",
    "               ('tfidf', TfidfTransformer()),\n",
    "               ('model',LinearSVC()),\n",
    "               ])\n",
    "\n",
    "svc.fit(X_train, y_train)\n",
    "\n",
    "ytest = np.array(y_test)\n",
    "y_pred = svc.predict(X_test)"
   ]
  },
  {
   "cell_type": "code",
   "execution_count": 63,
   "metadata": {},
   "outputs": [
    {
     "name": "stdout",
     "output_type": "stream",
     "text": [
      "accuracy 0.9752808988764045\n",
      "               precision    recall  f1-score   support\n",
      "\n",
      "     business       0.97      0.95      0.96       101\n",
      "entertainment       0.97      0.97      0.97        72\n",
      "     politics       0.97      0.97      0.97        90\n",
      "        sport       1.00      0.99      1.00       102\n",
      "         tech       0.96      1.00      0.98        80\n",
      "\n",
      "     accuracy                           0.98       445\n",
      "    macro avg       0.97      0.98      0.98       445\n",
      " weighted avg       0.98      0.98      0.98       445\n",
      "\n"
     ]
    }
   ],
   "source": [
    "print('accuracy %s' % accuracy_score(y_pred, y_test))\n",
    "print(classification_report(ytest, y_pred))"
   ]
  },
  {
   "cell_type": "code",
   "execution_count": 64,
   "metadata": {},
   "outputs": [],
   "source": [
    "nbc = Pipeline([('vect', CountVectorizer(min_df=5, ngram_range=(1,2))),\n",
    "               ('tfidf', TfidfTransformer()),\n",
    "               ('model',MultinomialNB()),\n",
    "               ])\n",
    "\n",
    "nbc.fit(X_train, y_train)\n",
    "\n",
    "ytest = np.array(y_test)\n",
    "pred_y = nbc.predict(X_test)"
   ]
  },
  {
   "cell_type": "code",
   "execution_count": 65,
   "metadata": {},
   "outputs": [
    {
     "name": "stdout",
     "output_type": "stream",
     "text": [
      "accuracy 0.9550561797752809\n",
      "               precision    recall  f1-score   support\n",
      "\n",
      "     business       0.92      0.96      0.94       101\n",
      "entertainment       1.00      0.88      0.93        72\n",
      "     politics       0.97      0.96      0.96        90\n",
      "        sport       0.94      1.00      0.97       102\n",
      "         tech       0.97      0.96      0.97        80\n",
      "\n",
      "     accuracy                           0.96       445\n",
      "    macro avg       0.96      0.95      0.95       445\n",
      " weighted avg       0.96      0.96      0.95       445\n",
      "\n"
     ]
    }
   ],
   "source": [
    "print('accuracy %s' % accuracy_score(pred_y, y_test))\n",
    "print(classification_report(ytest, pred_y))"
   ]
  },
  {
   "cell_type": "code",
   "execution_count": 66,
   "metadata": {},
   "outputs": [],
   "source": [
    "rf = Pipeline([('vect', CountVectorizer(min_df=5, ngram_range=(1,2))),\n",
    "               ('tfidf', TfidfTransformer()),\n",
    "               ('rf', RandomForestClassifier(n_estimators=50)),\n",
    "               ])\n",
    "\n",
    "rf.fit(X_train, y_train)\n",
    "\n",
    "ytest = np.array(y_test)\n",
    "preds = rf.predict(X_test)"
   ]
  },
  {
   "cell_type": "code",
   "execution_count": 67,
   "metadata": {},
   "outputs": [
    {
     "name": "stdout",
     "output_type": "stream",
     "text": [
      "accuracy 0.9415730337078652\n",
      "               precision    recall  f1-score   support\n",
      "\n",
      "     business       0.87      0.96      0.92       101\n",
      "entertainment       0.93      0.94      0.94        72\n",
      "     politics       0.98      0.91      0.94        90\n",
      "        sport       0.95      0.98      0.97       102\n",
      "         tech       1.00      0.90      0.95        80\n",
      "\n",
      "     accuracy                           0.94       445\n",
      "    macro avg       0.95      0.94      0.94       445\n",
      " weighted avg       0.94      0.94      0.94       445\n",
      "\n"
     ]
    }
   ],
   "source": [
    "print('accuracy %s' % accuracy_score(preds, y_test))\n",
    "print(classification_report(ytest, preds))"
   ]
  },
  {
   "cell_type": "code",
   "execution_count": 68,
   "metadata": {},
   "outputs": [],
   "source": [
    "model_gb = Pipeline([('vect', CountVectorizer(min_df=5, ngram_range=(1,2))),\n",
    "                    ('tfidf', TfidfTransformer()),\n",
    "                    ('gb', GradientBoostingClassifier(n_estimators=50)),\n",
    "                    ])\n",
    "\n",
    "model_gb.fit(X_train, y_train)\n",
    "\n",
    "ytest = np.array(y_test)\n",
    "predicted = model_gb.predict(X_test)"
   ]
  },
  {
   "cell_type": "code",
   "execution_count": 74,
   "metadata": {},
   "outputs": [
    {
     "name": "stdout",
     "output_type": "stream",
     "text": [
      "accuracy 0.9370786516853933\n",
      "               precision    recall  f1-score   support\n",
      "\n",
      "     business       0.87      0.91      0.89       101\n",
      "entertainment       0.96      0.92      0.94        72\n",
      "     politics       0.93      0.97      0.95        90\n",
      "        sport       0.99      0.98      0.99       102\n",
      "         tech       0.96      0.90      0.93        80\n",
      "\n",
      "     accuracy                           0.94       445\n",
      "    macro avg       0.94      0.93      0.94       445\n",
      " weighted avg       0.94      0.94      0.94       445\n",
      "\n"
     ]
    }
   ],
   "source": [
    "print('accuracy %s' % accuracy_score(predicted, y_test))\n",
    "print(classification_report(ytest, predicted))"
   ]
  },
  {
   "cell_type": "markdown",
   "metadata": {},
   "source": [
    "# Best Model"
   ]
  },
  {
   "cell_type": "code",
   "execution_count": 79,
   "metadata": {},
   "outputs": [],
   "source": [
    "log_acc = accuracy_score(pred, y_test)\n",
    "svm_acc = accuracy_score(y_pred, y_test)\n",
    "nb_acc = accuracy_score(pred_y, y_test)\n",
    "rf_acc = accuracy_score(preds, y_test)\n",
    "gb_acc = accuracy_score(predicted, y_test)"
   ]
  },
  {
   "cell_type": "code",
   "execution_count": 80,
   "metadata": {},
   "outputs": [
    {
     "data": {
      "text/html": [
       "<div>\n",
       "<style scoped>\n",
       "    .dataframe tbody tr th:only-of-type {\n",
       "        vertical-align: middle;\n",
       "    }\n",
       "\n",
       "    .dataframe tbody tr th {\n",
       "        vertical-align: top;\n",
       "    }\n",
       "\n",
       "    .dataframe thead th {\n",
       "        text-align: right;\n",
       "    }\n",
       "</style>\n",
       "<table border=\"1\" class=\"dataframe\">\n",
       "  <thead>\n",
       "    <tr style=\"text-align: right;\">\n",
       "      <th></th>\n",
       "      <th>Model</th>\n",
       "      <th>Score</th>\n",
       "    </tr>\n",
       "  </thead>\n",
       "  <tbody>\n",
       "    <tr>\n",
       "      <th>1</th>\n",
       "      <td>SVM</td>\n",
       "      <td>0.975281</td>\n",
       "    </tr>\n",
       "    <tr>\n",
       "      <th>0</th>\n",
       "      <td>Logistic Regression</td>\n",
       "      <td>0.968539</td>\n",
       "    </tr>\n",
       "    <tr>\n",
       "      <th>2</th>\n",
       "      <td>Naive Bayes</td>\n",
       "      <td>0.955056</td>\n",
       "    </tr>\n",
       "    <tr>\n",
       "      <th>3</th>\n",
       "      <td>Random Forest</td>\n",
       "      <td>0.941573</td>\n",
       "    </tr>\n",
       "    <tr>\n",
       "      <th>4</th>\n",
       "      <td>Gradient Boosting</td>\n",
       "      <td>0.937079</td>\n",
       "    </tr>\n",
       "  </tbody>\n",
       "</table>\n",
       "</div>"
      ],
      "text/plain": [
       "                 Model     Score\n",
       "1                  SVM  0.975281\n",
       "0  Logistic Regression  0.968539\n",
       "2          Naive Bayes  0.955056\n",
       "3        Random Forest  0.941573\n",
       "4    Gradient Boosting  0.937079"
      ]
     },
     "execution_count": 80,
     "metadata": {},
     "output_type": "execute_result"
    }
   ],
   "source": [
    "models = pd.DataFrame({\n",
    "                      'Model': ['Logistic Regression', 'SVM', 'Naive Bayes', 'Random Forest', 'Gradient Boosting'],\n",
    "                      'Score': [log_acc, svm_acc, nb_acc, rf_acc, gb_acc]})\n",
    "models.sort_values(by='Score', ascending=False)"
   ]
  },
  {
   "cell_type": "code",
   "execution_count": null,
   "metadata": {},
   "outputs": [],
   "source": []
  }
 ],
 "metadata": {
  "kernelspec": {
   "display_name": "Python 3",
   "language": "python",
   "name": "python3"
  },
  "language_info": {
   "codemirror_mode": {
    "name": "ipython",
    "version": 3
   },
   "file_extension": ".py",
   "mimetype": "text/x-python",
   "name": "python",
   "nbconvert_exporter": "python",
   "pygments_lexer": "ipython3",
   "version": "3.6.12"
  }
 },
 "nbformat": 4,
 "nbformat_minor": 4
}
